{
  "nbformat": 4,
  "nbformat_minor": 0,
  "metadata": {
    "colab": {
      "provenance": [],
      "authorship_tag": "ABX9TyN9D0YDjtXNEDlKVpSy9yqt",
      "include_colab_link": true
    },
    "kernelspec": {
      "name": "python3",
      "display_name": "Python 3"
    },
    "language_info": {
      "name": "python"
    }
  },
  "cells": [
    {
      "cell_type": "markdown",
      "metadata": {
        "id": "view-in-github",
        "colab_type": "text"
      },
      "source": [
        "<a href=\"https://colab.research.google.com/github/HarshMartinTopno/ReCom/blob/main/RECOM.ipynb\" target=\"_parent\"><img src=\"https://colab.research.google.com/assets/colab-badge.svg\" alt=\"Open In Colab\"/></a>"
      ]
    },
    {
      "cell_type": "code",
      "execution_count": null,
      "metadata": {
        "id": "MvffzhuAm6FE"
      },
      "outputs": [],
      "source": [
        "# importing the libraries\n",
        "import numpy as np\n",
        "import pandas as pd\n",
        "import torch\n",
        "import torch.nn as nn\n",
        "import torch.nn.parallel\n",
        "import torch.optim as optim\n",
        "import torch.utils.data\n",
        "from torch.autograd import Variable"
      ]
    },
    {
      "cell_type": "code",
      "source": [
        "# importing the dataset\n",
        "movies = pd.read_csv('/content/ml-1m/movies.dat' , sep = '::', header = None, encoding = 'latin-1' )\n",
        "users = pd.read_csv('/content/ml-1m/users.dat', sep = '::', header = None, encoding = 'latin-1')\n",
        "ratings = pd.read_csv('/content/ml-1m/ratings.dat', sep = '::', header = None, encoding = 'latin-1')"
      ],
      "metadata": {
        "id": "rciv0h8ryhl2"
      },
      "execution_count": null,
      "outputs": []
    },
    {
      "cell_type": "code",
      "source": [
        "# Preparing the training set and the test set\n",
        "training_set = pd.read_csv('/content/ml-100K/u1.base', delimiter = '\\t', header = None) # sep and delimiter are the same thing\n",
        "training_set = np.array(training_set, dtype = 'int' )\n",
        "\n",
        "test_set = pd.read_csv('/content/ml-100K/u1.test', delimiter = '\\t', header = None)\n",
        "test_set = np.array(test_set, dtype = 'int')"
      ],
      "metadata": {
        "id": "mp1vaCtAz5fz"
      },
      "execution_count": null,
      "outputs": []
    },
    {
      "cell_type": "code",
      "source": [
        "# Getting the number of users and movies\n",
        "nb_users = int(max(max(training_set[:,0]),max(test_set[:,0])))\n",
        "nb_movies = int(max(max(training_set[:,1]), max(test_set[:,1])))"
      ],
      "metadata": {
        "id": "ecmR-1cT1Nti"
      },
      "execution_count": null,
      "outputs": []
    },
    {
      "cell_type": "code",
      "source": [
        "# Creating an array where the lines are users and the columns are features\n",
        "def convert(data):\n",
        "  new_data = []\n",
        "  for id_users in range(1, nb_users + 1):\n",
        "   id_movies = data[: , 1][data[: , 0] == id_users]\n",
        "   id_ratings = data[: , 2][data[: , 0] == id_users]\n",
        "   ratings = np.zeros(nb_movies)\n",
        "   ratings[id_movies - 1] = id_ratings\n",
        "   new_data.append(list(ratings))\n",
        "  return new_data\n",
        "\n",
        "training_set = convert(training_set)\n",
        "test_set = convert(test_set)"
      ],
      "metadata": {
        "id": "RKtU98fQ6mQW"
      },
      "execution_count": null,
      "outputs": []
    },
    {
      "cell_type": "code",
      "source": [
        "# Converting data into tensors\n",
        "training_set = torch.FloatTensor(training_set)\n",
        "test_set = torch.FloatTensor(test_set)"
      ],
      "metadata": {
        "id": "PkZpBu_mKHfQ"
      },
      "execution_count": null,
      "outputs": []
    },
    {
      "cell_type": "code",
      "source": [
        "# Converting the ratings (1 - 5) into binary rating (0 & 1), where 1 : Liked and 0 : Not Liked\n",
        "training_set[training_set == 0] = -1\n",
        "training_set[training_set == 1 ] = 0 # Torch doesn't support 'or' therefore we need to individually convert all ratings\n",
        "training_set[training_set == 2 ] = 0\n",
        "training_set[training_set >= 3] = 1\n",
        "\n",
        "test_set[test_set == 0] = -1\n",
        "test_set[test_set == 1 ] = 0\n",
        "test_set[test_set == 2 ] = 0\n",
        "test_set[test_set >= 3] = 1"
      ],
      "metadata": {
        "id": "zOpa6JsoKkiu"
      },
      "execution_count": null,
      "outputs": []
    },
    {
      "cell_type": "code",
      "source": [
        "# Creating the RBM(restrictive boltzmann machine) architecture\n",
        "class RBM:\n",
        "\n",
        "  def __inti__(self,  )\n",
        "\n"
      ],
      "metadata": {
        "id": "8aetwJ3QM95g"
      },
      "execution_count": null,
      "outputs": []
    }
  ]
}